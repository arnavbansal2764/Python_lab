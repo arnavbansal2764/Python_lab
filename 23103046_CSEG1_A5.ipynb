{
 "cells": [
  {
   "cell_type": "code",
   "execution_count": 12,
   "id": "317bc4f9-0ab5-4a71-b16c-398268016a1c",
   "metadata": {},
   "outputs": [],
   "source": [
    "import numpy as np\n",
    "from sklearn.datasets import load_iris\n",
    "from sklearn.model_selection import train_test_split\n",
    "from collections import Counter"
   ]
  },
  {
   "cell_type": "code",
   "execution_count": 13,
   "id": "1e3476c8-62b3-44e1-958e-a0e5a4c65c05",
   "metadata": {},
   "outputs": [],
   "source": [
    "# Load Iris dataset\n",
    "iris = load_iris()\n",
    "X = iris.data\n",
    "y = iris.target"
   ]
  },
  {
   "cell_type": "code",
   "execution_count": 14,
   "id": "8de42927-88cf-4dc3-8795-c127235e1f49",
   "metadata": {},
   "outputs": [],
   "source": [
    "# Split the dataset into 70% training and 30% testing\n",
    "X_train, X_test, y_train, y_test = train_test_split(X, y, test_size=0.3, random_state=42)"
   ]
  },
  {
   "cell_type": "code",
   "execution_count": 15,
   "id": "1950d332-8d57-45b3-b111-bdcba8cdbfb5",
   "metadata": {},
   "outputs": [],
   "source": [
    "# Function to calculate Euclidean distance\n",
    "def euclidean_distance(x1, x2):\n",
    "    return np.sqrt(np.sum((x1 - x2) ** 2))"
   ]
  },
  {
   "cell_type": "code",
   "execution_count": 16,
   "id": "de1a4e35-7655-4718-9068-0177d27a798f",
   "metadata": {},
   "outputs": [],
   "source": [
    "# KNN algorithm\n",
    "def knn(X_train, y_train, X_test, k):\n",
    "    y_pred = []\n",
    "    for x in X_test:\n",
    "        # Compute distances from the test point to all training points\n",
    "        distances = [euclidean_distance(x, x_train) for x_train in X_train]\n",
    "        # Sort by distance and return indices of the first k neighbors\n",
    "        k_indices = np.argsort(distances)[:k]\n",
    "        k_nearest_labels = [y_train[i] for i in k_indices]\n",
    "        # Get the most common class label among the k neighbors\n",
    "        most_common = Counter(k_nearest_labels).most_common(1)\n",
    "        y_pred.append(most_common[0][0])\n",
    "    return np.array(y_pred)"
   ]
  },
  {
   "cell_type": "code",
   "execution_count": 17,
   "id": "2c10d273-a543-45a4-b2e7-5f21ad1f38d0",
   "metadata": {},
   "outputs": [],
   "source": [
    "# Test the KNN algorithm for different values of k\n",
    "k_values = [1, 2, 3, 4, 5]\n",
    "correct_counts = {}"
   ]
  },
  {
   "cell_type": "code",
   "execution_count": 18,
   "id": "12cc0d32-25ee-445c-ab80-43e0c32a6b0d",
   "metadata": {},
   "outputs": [],
   "source": [
    "for k in k_values:\n",
    "    y_pred = knn(X_train, y_train, X_test, k)\n",
    "    correct_count = np.sum(y_pred == y_test)\n",
    "    correct_counts[k] = correct_count"
   ]
  },
  {
   "cell_type": "code",
   "execution_count": 19,
   "id": "cd70e7be-a49e-4ae5-a930-be25a6e83c0b",
   "metadata": {},
   "outputs": [
    {
     "name": "stdout",
     "output_type": "stream",
     "text": [
      "K = 1: Correctly classified testing samples: 45 out of 45\n",
      "K = 2: Correctly classified testing samples: 45 out of 45\n",
      "K = 3: Correctly classified testing samples: 45 out of 45\n",
      "K = 4: Correctly classified testing samples: 45 out of 45\n",
      "K = 5: Correctly classified testing samples: 45 out of 45\n"
     ]
    }
   ],
   "source": [
    "# Output the results\n",
    "for k, count in correct_counts.items():\n",
    "    print(f\"K = {k}: Correctly classified testing samples: {count} out of {len(y_test)}\")"
   ]
  },
  {
   "cell_type": "code",
   "execution_count": null,
   "id": "5bddc722-40da-4121-9c4b-c48800063ca4",
   "metadata": {},
   "outputs": [],
   "source": []
  }
 ],
 "metadata": {
  "kernelspec": {
   "display_name": "Python 3 (ipykernel)",
   "language": "python",
   "name": "python3"
  },
  "language_info": {
   "codemirror_mode": {
    "name": "ipython",
    "version": 3
   },
   "file_extension": ".py",
   "mimetype": "text/x-python",
   "name": "python",
   "nbconvert_exporter": "python",
   "pygments_lexer": "ipython3",
   "version": "3.12.5"
  }
 },
 "nbformat": 4,
 "nbformat_minor": 5
}
