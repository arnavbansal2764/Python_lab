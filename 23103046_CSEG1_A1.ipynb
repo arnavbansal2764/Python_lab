{
 "cells": [
  {
   "cell_type": "code",
   "execution_count": 1,
   "id": "8489676d-0201-459a-98c7-24dd0fdbc70d",
   "metadata": {},
   "outputs": [],
   "source": [
    "import numpy as np"
   ]
  },
  {
   "cell_type": "code",
   "execution_count": 2,
   "id": "a668023b-43e3-4af1-a910-69f8a5fdba5f",
   "metadata": {},
   "outputs": [],
   "source": [
    "# 1. Create an array A of size 5X5\n",
    "A = np.random.randint(1, 100, (5, 5))"
   ]
  },
  {
   "cell_type": "code",
   "execution_count": 3,
   "id": "5273261e-601d-442e-bad6-f9acf6dc3df4",
   "metadata": {},
   "outputs": [],
   "source": [
    "# 1a. Shape of the array\n",
    "shape_of_A = A.shape"
   ]
  },
  {
   "cell_type": "code",
   "execution_count": 10,
   "id": "0ed689d1-8335-443f-b47b-b708a2e80870",
   "metadata": {},
   "outputs": [
    {
     "data": {
      "text/plain": [
       "(5, 5)"
      ]
     },
     "execution_count": 10,
     "metadata": {},
     "output_type": "execute_result"
    }
   ],
   "source": [
    "shape_of_A"
   ]
  },
  {
   "cell_type": "code",
   "execution_count": 5,
   "id": "92765bbd-ae0c-47ba-954f-3f8f7673d0ff",
   "metadata": {},
   "outputs": [],
   "source": [
    "# 1b. Length of each element of the array in Bytes\n",
    "element_size_bytes = A.itemsize"
   ]
  },
  {
   "cell_type": "code",
   "execution_count": 11,
   "id": "a26ded30-efdb-4248-a755-794adda497ce",
   "metadata": {},
   "outputs": [
    {
     "data": {
      "text/plain": [
       "8"
      ]
     },
     "execution_count": 11,
     "metadata": {},
     "output_type": "execute_result"
    }
   ],
   "source": [
    "element_size_bytes"
   ]
  },
  {
   "cell_type": "code",
   "execution_count": 7,
   "id": "74677a0a-d2a4-4987-ac5c-5d2285045d94",
   "metadata": {},
   "outputs": [],
   "source": [
    "# 1c. Array of elements in the second column of each row\n",
    "second_column = A[:, 1]"
   ]
  },
  {
   "cell_type": "code",
   "execution_count": 12,
   "id": "fd46b4ed-3101-48b8-8d07-4342fc49aa59",
   "metadata": {},
   "outputs": [
    {
     "data": {
      "text/plain": [
       "array([61, 48,  3, 55, 61])"
      ]
     },
     "execution_count": 12,
     "metadata": {},
     "output_type": "execute_result"
    }
   ],
   "source": [
    "second_column"
   ]
  },
  {
   "cell_type": "code",
   "execution_count": 8,
   "id": "92ffdb49-23e8-4b17-b612-029bf8216ec5",
   "metadata": {},
   "outputs": [],
   "source": [
    "# 1d. Create a new array S having the square of each item of the created array A\n",
    "S = np.square(A)"
   ]
  },
  {
   "cell_type": "code",
   "execution_count": 9,
   "id": "a2109109-4b42-44fb-aea1-8808558cf75c",
   "metadata": {},
   "outputs": [],
   "source": [
    "# 1e. Print the array elements in the reverse order\n",
    "reversed_A = A.flatten()[::-1]"
   ]
  },
  {
   "cell_type": "code",
   "execution_count": 13,
   "id": "bb3a5f5d-6820-4f12-8a6a-189c959aeede",
   "metadata": {},
   "outputs": [
    {
     "data": {
      "text/plain": [
       "array([ 7, 25, 88, 61, 34, 68, 84, 52, 55, 80, 75, 47,  4,  3,  6, 41, 14,\n",
       "       74, 48, 18, 12, 66,  8, 61, 51])"
      ]
     },
     "execution_count": 13,
     "metadata": {},
     "output_type": "execute_result"
    }
   ],
   "source": [
    "reversed_A"
   ]
  },
  {
   "cell_type": "code",
   "execution_count": 14,
   "id": "22267af0-fe25-4cd8-b1b6-87ffa0b5e763",
   "metadata": {},
   "outputs": [],
   "source": [
    "# 2. Create a 10x10 array with random values and find the minimum and maximum values.\n",
    "B = np.random.random((10, 10))"
   ]
  },
  {
   "cell_type": "code",
   "execution_count": 15,
   "id": "0ed80249-f222-4212-a05d-e10fca11f393",
   "metadata": {},
   "outputs": [],
   "source": [
    "min_value_B = B.min()"
   ]
  },
  {
   "cell_type": "code",
   "execution_count": 17,
   "id": "a21f6cfa-8e95-4f53-9fa2-e94b1f8b5e21",
   "metadata": {},
   "outputs": [
    {
     "data": {
      "text/plain": [
       "np.float64(0.007885061761525924)"
      ]
     },
     "execution_count": 17,
     "metadata": {},
     "output_type": "execute_result"
    }
   ],
   "source": [
    "min_value_B"
   ]
  },
  {
   "cell_type": "code",
   "execution_count": 18,
   "id": "704cee39-c3d3-4e79-9e48-638aa6c926a5",
   "metadata": {},
   "outputs": [],
   "source": [
    "max_value_B = B.max()"
   ]
  },
  {
   "cell_type": "code",
   "execution_count": 19,
   "id": "11b09491-0eef-4081-9270-62e9a57f0598",
   "metadata": {},
   "outputs": [
    {
     "data": {
      "text/plain": [
       "np.float64(0.9960507069253938)"
      ]
     },
     "execution_count": 19,
     "metadata": {},
     "output_type": "execute_result"
    }
   ],
   "source": [
    "max_value_B"
   ]
  },
  {
   "cell_type": "code",
   "execution_count": 24,
   "id": "eb77882f-c3a8-4ff0-b45e-c8a380c54390",
   "metadata": {},
   "outputs": [],
   "source": [
    "# 3. Create two random arrays A and B, check if they are equal.\n",
    "A_random = np.random.randint(1, 100, (5, 5))"
   ]
  },
  {
   "cell_type": "code",
   "execution_count": 25,
   "id": "889cb690-b8eb-472d-b0b7-f1393f985668",
   "metadata": {},
   "outputs": [],
   "source": [
    "B_random = np.random.randint(1, 100, (5, 5))"
   ]
  },
  {
   "cell_type": "code",
   "execution_count": 26,
   "id": "afdeb816-3b19-4bdc-acfc-2e7527dec69e",
   "metadata": {},
   "outputs": [],
   "source": [
    "arrays_equal = np.array_equal(A_random, B_random)"
   ]
  },
  {
   "cell_type": "code",
   "execution_count": 27,
   "id": "caba5932-ca60-4224-843e-c18855762916",
   "metadata": {},
   "outputs": [
    {
     "data": {
      "text/plain": [
       "False"
      ]
     },
     "execution_count": 27,
     "metadata": {},
     "output_type": "execute_result"
    }
   ],
   "source": [
    "arrays_equal"
   ]
  },
  {
   "cell_type": "code",
   "execution_count": 28,
   "id": "4a0811f1-7436-461f-9060-c055fca84a17",
   "metadata": {},
   "outputs": [],
   "source": [
    "# 4. Define matrix_operations function"
   ]
  },
  {
   "cell_type": "code",
   "execution_count": 30,
   "id": "4e75d9fb-f143-4268-ac50-81c809174e1c",
   "metadata": {},
   "outputs": [],
   "source": [
    "def matrix_operations(A, B):\n",
    "    # 1. Compute the element-wise sum of A and B\n",
    "    elementwise_sum = np.add(A, B)\n",
    "    \n",
    "    # 2. Compute the element-wise product of A and B\n",
    "    elementwise_product = np.multiply(A, B)\n",
    "    \n",
    "    # 3. Compute the dot product of A and B\n",
    "    dot_product = np.dot(A, B)\n",
    "    \n",
    "    # 4. Compute the transpose of the resulting dot product matrix\n",
    "    transpose_dot_product = np.transpose(dot_product)\n",
    "    \n",
    "    return elementwise_sum, elementwise_product, dot_product, transpose_dot_product\n"
   ]
  },
  {
   "cell_type": "code",
   "execution_count": 31,
   "id": "b938607d-76cc-4278-99c7-2a739f346de8",
   "metadata": {},
   "outputs": [],
   "source": [
    "# Create two sample matrices A and B\n",
    "A = np.array([[1, 2, 3],\n",
    "              [4, 5, 6],\n",
    "              [7, 8, 9]])\n",
    "\n",
    "B = np.array([[9, 8, 7],\n",
    "              [6, 5, 4],\n",
    "              [3, 2, 1]])"
   ]
  },
  {
   "cell_type": "code",
   "execution_count": 32,
   "id": "830b69b7-df5b-4ee3-a86e-715bbfedd216",
   "metadata": {},
   "outputs": [],
   "source": [
    "# Call the matrix_operations function\n",
    "elementwise_sum, elementwise_product, dot_product, transpose_dot_product = matrix_operations(A, B)"
   ]
  },
  {
   "cell_type": "code",
   "execution_count": 33,
   "id": "a8eee621-bd3d-43e9-9484-69fb66721042",
   "metadata": {},
   "outputs": [
    {
     "data": {
      "text/plain": [
       "array([[10, 10, 10],\n",
       "       [10, 10, 10],\n",
       "       [10, 10, 10]])"
      ]
     },
     "execution_count": 33,
     "metadata": {},
     "output_type": "execute_result"
    }
   ],
   "source": [
    "elementwise_sum"
   ]
  },
  {
   "cell_type": "code",
   "execution_count": 34,
   "id": "81a0d89e-b63c-40a9-b89a-a4071d8b8256",
   "metadata": {},
   "outputs": [
    {
     "data": {
      "text/plain": [
       "array([[ 9, 16, 21],\n",
       "       [24, 25, 24],\n",
       "       [21, 16,  9]])"
      ]
     },
     "execution_count": 34,
     "metadata": {},
     "output_type": "execute_result"
    }
   ],
   "source": [
    "elementwise_product"
   ]
  },
  {
   "cell_type": "code",
   "execution_count": 35,
   "id": "e601704f-17ce-4301-85a5-f8c639afcaaf",
   "metadata": {},
   "outputs": [
    {
     "data": {
      "text/plain": [
       "array([[ 30,  24,  18],\n",
       "       [ 84,  69,  54],\n",
       "       [138, 114,  90]])"
      ]
     },
     "execution_count": 35,
     "metadata": {},
     "output_type": "execute_result"
    }
   ],
   "source": [
    "dot_product"
   ]
  },
  {
   "cell_type": "code",
   "execution_count": 36,
   "id": "faedcfb8-2933-4c27-8816-375e0ca2a1e7",
   "metadata": {},
   "outputs": [
    {
     "data": {
      "text/plain": [
       "array([[ 30,  84, 138],\n",
       "       [ 24,  69, 114],\n",
       "       [ 18,  54,  90]])"
      ]
     },
     "execution_count": 36,
     "metadata": {},
     "output_type": "execute_result"
    }
   ],
   "source": [
    "transpose_dot_product"
   ]
  },
  {
   "cell_type": "code",
   "execution_count": 37,
   "id": "24ab79a1-f240-4980-80c8-d6e23e8dd6d3",
   "metadata": {},
   "outputs": [],
   "source": [
    "def solve_linear_system(A, b):\n",
    "    try:\n",
    "        # Solve for x in Ax = b\n",
    "        x = np.linalg.solve(A, b)\n",
    "        return x\n",
    "    except np.linalg.LinAlgError:\n",
    "        return \"The system has no unique solution.\""
   ]
  },
  {
   "cell_type": "code",
   "execution_count": 38,
   "id": "4207c7fe-2b7c-4789-a8c4-7985632e5039",
   "metadata": {},
   "outputs": [],
   "source": [
    "# Create a sample matrix A and vector b\n",
    "A = np.array([[3, 1, -1],\n",
    "              [2, 4, 1],\n",
    "              [-1, 2, 5]])\n",
    "\n",
    "b = np.array([4, 1, 1])\n"
   ]
  },
  {
   "cell_type": "code",
   "execution_count": 39,
   "id": "b92e41d6-e598-44d7-9e47-8348c7de5add",
   "metadata": {},
   "outputs": [],
   "source": [
    "# Solve the linear system\n",
    "x = solve_linear_system(A, b)"
   ]
  },
  {
   "cell_type": "code",
   "execution_count": null,
   "id": "0fe64bad-00ce-4fb8-8ca5-865a1f7fa217",
   "metadata": {},
   "outputs": [],
   "source": []
  }
 ],
 "metadata": {
  "kernelspec": {
   "display_name": "Python 3 (ipykernel)",
   "language": "python",
   "name": "python3"
  },
  "language_info": {
   "codemirror_mode": {
    "name": "ipython",
    "version": 3
   },
   "file_extension": ".py",
   "mimetype": "text/x-python",
   "name": "python",
   "nbconvert_exporter": "python",
   "pygments_lexer": "ipython3",
   "version": "3.12.5"
  }
 },
 "nbformat": 4,
 "nbformat_minor": 5
}
