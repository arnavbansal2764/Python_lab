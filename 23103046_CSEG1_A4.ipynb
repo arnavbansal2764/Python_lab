{
 "cells": [
  {
   "cell_type": "markdown",
   "id": "88663b14-bf89-4f97-8331-39bad2d96a0c",
   "metadata": {},
   "source": [
    "Question 1"
   ]
  },
  {
   "cell_type": "code",
   "execution_count": 54,
   "id": "6c00a83f-afba-4d56-b8ed-1335bbf27007",
   "metadata": {},
   "outputs": [],
   "source": [
    "import pandas as pd"
   ]
  },
  {
   "cell_type": "code",
   "execution_count": 55,
   "id": "e3589f62-0e55-4820-bc8a-992617c149de",
   "metadata": {},
   "outputs": [],
   "source": [
    "# Load the dataset into a Pandas DataFrame\n",
    "df = pd.read_csv('data.csv')"
   ]
  },
  {
   "cell_type": "code",
   "execution_count": 56,
   "id": "0abae297-139a-46ac-ab4a-02c2304676de",
   "metadata": {},
   "outputs": [
    {
     "name": "stdout",
     "output_type": "stream",
     "text": [
      "Data Types of All Columns:\n",
      "opportunity_id          int64\n",
      "content_id              int64\n",
      "vol_requests            int64\n",
      "event_time              int64\n",
      "title                  object\n",
      "hits                    int64\n",
      "summary                object\n",
      "is_priority            object\n",
      "category_id           float64\n",
      "category_desc          object\n",
      "amsl                  float64\n",
      "amsl_unit             float64\n",
      "org_title              object\n",
      "org_content_id          int64\n",
      "addresses_count         int64\n",
      "locality               object\n",
      "region                 object\n",
      "postalcode            float64\n",
      "primary_loc           float64\n",
      "display_url            object\n",
      "recurrence_type        object\n",
      "hours                   int64\n",
      "created_date           object\n",
      "last_modified_date     object\n",
      "start_date_date        object\n",
      "end_date_date          object\n",
      "status                 object\n",
      "Latitude              float64\n",
      "Longitude             float64\n",
      "Community Board       float64\n",
      "Community Council     float64\n",
      "Census Tract          float64\n",
      "BIN                   float64\n",
      "BBL                   float64\n",
      "NTA                   float64\n",
      "dtype: object\n"
     ]
    }
   ],
   "source": [
    "# Print the data types of all columns in the DataFrame\n",
    "print(\"Data Types of All Columns:\")\n",
    "print(df.dtypes)"
   ]
  },
  {
   "cell_type": "code",
   "execution_count": 57,
   "id": "3508acf9-cca5-4f2e-9a8e-cb4ff40d244c",
   "metadata": {},
   "outputs": [],
   "source": [
    "# Example of columns that might be incorrectly typed:\n",
    "# - 'opportunity_id', 'content_id', 'vol_requests', 'event_time', 'hits', 'is_priority', 'category_id', \n",
    "# 'org_content_id', 'addresses_count' could be integers but might be stored as objects\n",
    "# - 'created_date', 'last_modified_date', 'start_date_date', 'end_date_date' could be dates but might be stored as objects\n",
    "\n",
    "# Convert numeric columns stored as objects to integers\n",
    "numeric_cols = ['opportunity_id', 'content_id', 'vol_requests', 'event_time', 'hits', \n",
    "                'is_priority', 'category_id', 'org_content_id', 'addresses_count']\n"
   ]
  },
  {
   "cell_type": "code",
   "execution_count": 58,
   "id": "d371ab7a-9549-4db1-b496-98b4d3473588",
   "metadata": {},
   "outputs": [],
   "source": [
    "for col in numeric_cols:\n",
    "    df[col] = pd.to_numeric(df[col], errors='coerce')"
   ]
  },
  {
   "cell_type": "code",
   "execution_count": 59,
   "id": "9fc98855-fc9a-4bfe-aef5-ff13645b24d3",
   "metadata": {},
   "outputs": [],
   "source": [
    "# Convert date columns stored as objects to datetime\n",
    "date_cols = ['created_date', 'last_modified_date', 'start_date_date', 'end_date_date']"
   ]
  },
  {
   "cell_type": "code",
   "execution_count": 60,
   "id": "dfbb7d02-3f0c-44fa-a05e-8acf52e1ea2f",
   "metadata": {},
   "outputs": [],
   "source": [
    "for col in date_cols:\n",
    "    df[col] = pd.to_datetime(df[col], errors='coerce')"
   ]
  },
  {
   "cell_type": "code",
   "execution_count": 61,
   "id": "e519e810-7feb-42f5-9494-bff1ebf9ec4c",
   "metadata": {},
   "outputs": [
    {
     "name": "stdout",
     "output_type": "stream",
     "text": [
      "\n",
      "Updated Data Types After Conversion:\n",
      "opportunity_id                 int64\n",
      "content_id                     int64\n",
      "vol_requests                   int64\n",
      "event_time                     int64\n",
      "title                         object\n",
      "hits                           int64\n",
      "summary                       object\n",
      "is_priority                  float64\n",
      "category_id                  float64\n",
      "category_desc                 object\n",
      "amsl                         float64\n",
      "amsl_unit                    float64\n",
      "org_title                     object\n",
      "org_content_id                 int64\n",
      "addresses_count                int64\n",
      "locality                      object\n",
      "region                        object\n",
      "postalcode                   float64\n",
      "primary_loc                  float64\n",
      "display_url                   object\n",
      "recurrence_type               object\n",
      "hours                          int64\n",
      "created_date          datetime64[ns]\n",
      "last_modified_date    datetime64[ns]\n",
      "start_date_date       datetime64[ns]\n",
      "end_date_date         datetime64[ns]\n",
      "status                        object\n",
      "Latitude                     float64\n",
      "Longitude                    float64\n",
      "Community Board              float64\n",
      "Community Council            float64\n",
      "Census Tract                 float64\n",
      "BIN                          float64\n",
      "BBL                          float64\n",
      "NTA                          float64\n",
      "dtype: object\n"
     ]
    }
   ],
   "source": [
    "# Print the updated data types after conversion\n",
    "print(\"\\nUpdated Data Types After Conversion:\")\n",
    "print(df.dtypes)"
   ]
  },
  {
   "cell_type": "code",
   "execution_count": 62,
   "id": "bacd34f9-b28b-49aa-8e55-da160d393051",
   "metadata": {},
   "outputs": [
    {
     "name": "stdout",
     "output_type": "stream",
     "text": [
      "\f",
      "\n"
     ]
    }
   ],
   "source": [
    "clear"
   ]
  },
  {
   "cell_type": "markdown",
   "id": "314c8f7c-330f-419a-83ce-a1ca213d9c8e",
   "metadata": {},
   "source": [
    "Question 2"
   ]
  },
  {
   "cell_type": "code",
   "execution_count": 63,
   "id": "ae450ff3-22a7-41e5-a3fc-68720e8d4f73",
   "metadata": {},
   "outputs": [],
   "source": [
    "import pandas as pd"
   ]
  },
  {
   "cell_type": "code",
   "execution_count": 64,
   "id": "3bde208c-35f4-41a3-b6da-f7d29ba48d46",
   "metadata": {},
   "outputs": [],
   "source": [
    "# Load the dataset into a Pandas DataFrame\n",
    "df = pd.read_csv('data.csv')"
   ]
  },
  {
   "cell_type": "code",
   "execution_count": 65,
   "id": "caae8c43-380a-4fc2-963b-9b0e8a4343e7",
   "metadata": {},
   "outputs": [
    {
     "name": "stdout",
     "output_type": "stream",
     "text": [
      "Columns with Missing Values:\n",
      "is_priority          603\n",
      "category_id           48\n",
      "category_desc         48\n",
      "amsl                 665\n",
      "amsl_unit            665\n",
      "locality              70\n",
      "postalcode             6\n",
      "primary_loc          665\n",
      "Latitude             665\n",
      "Longitude            665\n",
      "Community Board      665\n",
      "Community Council    665\n",
      "Census Tract         665\n",
      "BIN                  665\n",
      "BBL                  665\n",
      "NTA                  665\n",
      "dtype: int64\n"
     ]
    }
   ],
   "source": [
    "# Identify and list all columns that have missing values\n",
    "missing_values = df.isnull().sum()\n",
    "print(\"Columns with Missing Values:\")\n",
    "print(missing_values[missing_values > 0])"
   ]
  },
  {
   "cell_type": "code",
   "execution_count": 66,
   "id": "65d20d78-7a22-47bd-be04-5da89c0c81d1",
   "metadata": {},
   "outputs": [
    {
     "name": "stdout",
     "output_type": "stream",
     "text": [
      "\n",
      "Removed Columns: ['is_priority', 'category_id', 'category_desc', 'amsl', 'amsl_unit', 'locality', 'postalcode', 'primary_loc', 'Latitude', 'Longitude', 'Community Board', 'Community Council', 'Census Tract', 'BIN', 'BBL', 'NTA']\n"
     ]
    }
   ],
   "source": [
    "# Remove columns with at least 3 missing values\n",
    "cols_to_remove = missing_values[missing_values >= 3].index\n",
    "df = df.drop(columns=cols_to_remove)\n",
    "print(f\"\\nRemoved Columns: {list(cols_to_remove)}\")\n"
   ]
  },
  {
   "cell_type": "code",
   "execution_count": 67,
   "id": "c4cea8b2-cf2a-4f11-b02d-a166d7c9759a",
   "metadata": {},
   "outputs": [],
   "source": [
    "# For columns with missing values but fewer than 3, fill the missing values\n",
    "cols_to_fill = missing_values[(missing_values > 0) & (missing_values < 3)].index"
   ]
  },
  {
   "cell_type": "code",
   "execution_count": 68,
   "id": "b120a5f3-10ca-477f-bec7-9a0011275cbc",
   "metadata": {},
   "outputs": [],
   "source": [
    "for col in cols_to_fill:\n",
    "    if df[col].dtype in ['int64', 'float64']:  # Numerical columns\n",
    "        median_value = df[col].median()\n",
    "        df[col].fillna(median_value, inplace=True)\n",
    "        print(f\"Filled missing values in '{col}' with median value {median_value}.\")\n",
    "    else:  # Categorical columns\n",
    "        most_frequent_value = df[col].mode()[0]\n",
    "        df[col].fillna(most_frequent_value, inplace=True)\n",
    "        print(f\"Filled missing values in '{col}' with most frequent value '{most_frequent_value}'.\")"
   ]
  },
  {
   "cell_type": "code",
   "execution_count": 69,
   "id": "a9fc53a5-896d-4d05-8297-dc1ddd00509f",
   "metadata": {},
   "outputs": [
    {
     "name": "stdout",
     "output_type": "stream",
     "text": [
      "\n",
      "Missing Values After Handling:\n",
      "opportunity_id        0\n",
      "content_id            0\n",
      "vol_requests          0\n",
      "event_time            0\n",
      "title                 0\n",
      "hits                  0\n",
      "summary               0\n",
      "org_title             0\n",
      "org_content_id        0\n",
      "addresses_count       0\n",
      "region                0\n",
      "display_url           0\n",
      "recurrence_type       0\n",
      "hours                 0\n",
      "created_date          0\n",
      "last_modified_date    0\n",
      "start_date_date       0\n",
      "end_date_date         0\n",
      "status                0\n",
      "dtype: int64\n"
     ]
    }
   ],
   "source": [
    "# Verify that all missing values have been handled\n",
    "print(\"\\nMissing Values After Handling:\")\n",
    "print(df.isnull().sum())"
   ]
  },
  {
   "cell_type": "code",
   "execution_count": 70,
   "id": "920e175f-8bf8-4056-9778-e085d61b215c",
   "metadata": {},
   "outputs": [
    {
     "name": "stdout",
     "output_type": "stream",
     "text": [
      "\f",
      "\n"
     ]
    }
   ],
   "source": [
    "clear"
   ]
  },
  {
   "cell_type": "markdown",
   "id": "b851b777-63e8-4886-b8a6-130d413191a5",
   "metadata": {},
   "source": [
    "Question 3"
   ]
  },
  {
   "cell_type": "code",
   "execution_count": 71,
   "id": "991e8655-9b8b-4968-bdbb-81547c30e4c6",
   "metadata": {},
   "outputs": [],
   "source": [
    "import pandas as pd"
   ]
  },
  {
   "cell_type": "code",
   "execution_count": 72,
   "id": "458eb61b-e213-4569-a5bf-eabf63c1751c",
   "metadata": {},
   "outputs": [],
   "source": [
    "# Load the dataset into a Pandas DataFrame\n",
    "df = pd.read_csv('data.csv')"
   ]
  },
  {
   "cell_type": "code",
   "execution_count": 73,
   "id": "68e2154c-f6e9-4f28-9eb2-681ce5bd7f8c",
   "metadata": {},
   "outputs": [
    {
     "name": "stdout",
     "output_type": "stream",
     "text": [
      "Initial Data Types:\n",
      "opportunity_id          int64\n",
      "content_id              int64\n",
      "vol_requests            int64\n",
      "event_time              int64\n",
      "title                  object\n",
      "hits                    int64\n",
      "summary                object\n",
      "is_priority            object\n",
      "category_id           float64\n",
      "category_desc          object\n",
      "amsl                  float64\n",
      "amsl_unit             float64\n",
      "org_title              object\n",
      "org_content_id          int64\n",
      "addresses_count         int64\n",
      "locality               object\n",
      "region                 object\n",
      "postalcode            float64\n",
      "primary_loc           float64\n",
      "display_url            object\n",
      "recurrence_type        object\n",
      "hours                   int64\n",
      "created_date           object\n",
      "last_modified_date     object\n",
      "start_date_date        object\n",
      "end_date_date          object\n",
      "status                 object\n",
      "Latitude              float64\n",
      "Longitude             float64\n",
      "Community Board       float64\n",
      "Community Council     float64\n",
      "Census Tract          float64\n",
      "BIN                   float64\n",
      "BBL                   float64\n",
      "NTA                   float64\n",
      "dtype: object\n"
     ]
    }
   ],
   "source": [
    "# Check the initial data types\n",
    "print(\"Initial Data Types:\")\n",
    "print(df.dtypes)"
   ]
  },
  {
   "cell_type": "code",
   "execution_count": 74,
   "id": "f272fe30-d989-4fb7-b1e0-d482e2836077",
   "metadata": {},
   "outputs": [],
   "source": [
    "# Choose the column to convert - in this case, 'hits'\n",
    "# Convert the 'hits' column to an integer\n",
    "df['hits'] = pd.to_numeric(df['hits'], errors='coerce')"
   ]
  },
  {
   "cell_type": "code",
   "execution_count": 75,
   "id": "73a7ab90-0e81-44d1-9ec3-cc987d99c439",
   "metadata": {},
   "outputs": [
    {
     "name": "stdout",
     "output_type": "stream",
     "text": [
      "\n",
      "Updated Data Types After Conversion:\n",
      "opportunity_id          int64\n",
      "content_id              int64\n",
      "vol_requests            int64\n",
      "event_time              int64\n",
      "title                  object\n",
      "hits                    int64\n",
      "summary                object\n",
      "is_priority            object\n",
      "category_id           float64\n",
      "category_desc          object\n",
      "amsl                  float64\n",
      "amsl_unit             float64\n",
      "org_title              object\n",
      "org_content_id          int64\n",
      "addresses_count         int64\n",
      "locality               object\n",
      "region                 object\n",
      "postalcode            float64\n",
      "primary_loc           float64\n",
      "display_url            object\n",
      "recurrence_type        object\n",
      "hours                   int64\n",
      "created_date           object\n",
      "last_modified_date     object\n",
      "start_date_date        object\n",
      "end_date_date          object\n",
      "status                 object\n",
      "Latitude              float64\n",
      "Longitude             float64\n",
      "Community Board       float64\n",
      "Community Council     float64\n",
      "Census Tract          float64\n",
      "BIN                   float64\n",
      "BBL                   float64\n",
      "NTA                   float64\n",
      "dtype: object\n"
     ]
    }
   ],
   "source": [
    "# Verify the conversion by printing the updated data types\n",
    "print(\"\\nUpdated Data Types After Conversion:\")\n",
    "print(df.dtypes)"
   ]
  },
  {
   "cell_type": "code",
   "execution_count": 76,
   "id": "27242a80-b0d0-412a-9283-e99a5a21f062",
   "metadata": {},
   "outputs": [
    {
     "name": "stdout",
     "output_type": "stream",
     "text": [
      "\f",
      "\n"
     ]
    }
   ],
   "source": [
    "clear"
   ]
  },
  {
   "cell_type": "markdown",
   "id": "44adf449-fedd-4d58-bacb-24c6dba25561",
   "metadata": {},
   "source": [
    "Question 4"
   ]
  },
  {
   "cell_type": "code",
   "execution_count": 77,
   "id": "2e2f55e7-7e34-4a64-9ed1-7451a68c3710",
   "metadata": {},
   "outputs": [],
   "source": [
    "import pandas as pd\n",
    "import matplotlib.pyplot as plt"
   ]
  },
  {
   "cell_type": "code",
   "execution_count": 78,
   "id": "105ced66-9642-40fb-98e8-362851d5c825",
   "metadata": {},
   "outputs": [],
   "source": [
    "# Load the dataset into a Pandas DataFrame\n",
    "df = pd.read_csv('data.csv')"
   ]
  },
  {
   "cell_type": "code",
   "execution_count": 79,
   "id": "49f0233a-7235-4d2b-afe2-e74deea3f72d",
   "metadata": {},
   "outputs": [
    {
     "name": "stdout",
     "output_type": "stream",
     "text": [
      "Class Distribution in 'category_desc':\n",
      "category_desc\n",
      "Strengthening Communities    307\n",
      "Helping Neighbors in Need    119\n",
      "Education                     92\n",
      "Health                        52\n",
      "Environment                   32\n",
      "Emergency Preparedness        15\n",
      "Name: count, dtype: int64\n"
     ]
    }
   ],
   "source": [
    "# Calculate the distribution of classes in the 'category_desc' column\n",
    "class_distribution = df['category_desc'].value_counts()\n",
    "print(\"Class Distribution in 'category_desc':\")\n",
    "print(class_distribution)"
   ]
  },
  {
   "cell_type": "code",
   "execution_count": 80,
   "id": "9bc7de87-846c-4403-b42d-7cf36a2f9714",
   "metadata": {},
   "outputs": [
    {
     "data": {
      "image/png": "[encoded data removed]",
      "text/plain": [
       "<Figure size 1000x600 with 1 Axes>"
      ]
     },
     "metadata": {},
     "output_type": "display_data"
    }
   ],
   "source": [
    "# Create a bar plot to visualize the class distribution\n",
    "plt.figure(figsize=(10, 6))\n",
    "class_distribution.plot(kind='bar', color='skyblue')\n",
    "plt.title(\"Class Distribution in 'category_desc'\")\n",
    "plt.xlabel(\"Category Description\")\n",
    "plt.ylabel(\"Frequency\")\n",
    "plt.xticks(rotation=45, ha='right')\n",
    "plt.show()"
   ]
  },
  {
   "cell_type": "code",
   "execution_count": 83,
   "id": "39d107af-bf35-4872-992d-f7977af434f4",
   "metadata": {},
   "outputs": [
    {
     "name": "stdout",
     "output_type": "stream",
     "text": [
      "\f",
      "\n"
     ]
    }
   ],
   "source": [
    "clear"
   ]
  },
  {
   "cell_type": "markdown",
   "id": "f23bea5b-c3a4-4841-8d5a-c25c701d3909",
   "metadata": {},
   "source": [
    "Question 5"
   ]
  },
  {
   "cell_type": "code",
   "execution_count": 89,
   "id": "31147dae-d895-4475-aad7-1cbb01604c37",
   "metadata": {},
   "outputs": [
    {
     "name": "stdout",
     "output_type": "stream",
     "text": [
      "Missing values in category_desc: 48\n",
      "Missing values after removal: 0\n",
      "Original Class Distribution:\n",
      "category_desc\n",
      "Strengthening Communities    0.497569\n",
      "Helping Neighbors in Need    0.192869\n",
      "Education                    0.149109\n",
      "Health                       0.084279\n",
      "Environment                  0.051864\n",
      "Emergency Preparedness       0.024311\n",
      "Name: proportion, dtype: float64\n",
      "\n",
      "Sampled Class Distribution:\n",
      "category_desc\n",
      "Strengthening Communities    0.500000\n",
      "Helping Neighbors in Need    0.193548\n",
      "Education                    0.153226\n",
      "Health                       0.080645\n",
      "Environment                  0.048387\n",
      "Emergency Preparedness       0.024194\n",
      "Name: proportion, dtype: float64\n",
      "\n",
      "Comparison of Class Distributions:\n",
      "                           Original   Sampled\n",
      "category_desc                                \n",
      "Strengthening Communities  0.497569  0.500000\n",
      "Helping Neighbors in Need  0.192869  0.193548\n",
      "Education                  0.149109  0.153226\n",
      "Health                     0.084279  0.080645\n",
      "Environment                0.051864  0.048387\n",
      "Emergency Preparedness     0.024311  0.024194\n"
     ]
    }
   ],
   "source": [
    "import pandas as pd\n",
    "from sklearn.model_selection import StratifiedShuffleSplit\n",
    "\n",
    "# Load the dataset\n",
    "df = pd.read_csv('data.csv')\n",
    "\n",
    "# Define the class column\n",
    "class_column = 'category_desc'  # Replace with your actual class column name\n",
    "\n",
    "# Check for missing values in the class column\n",
    "missing_values = df[class_column].isna().sum()\n",
    "print(f\"Missing values in {class_column}: {missing_values}\")\n",
    "\n",
    "# Remove rows with missing values in the class column\n",
    "df = df.dropna(subset=[class_column])\n",
    "\n",
    "# Verify that there are no more missing values\n",
    "missing_values_after = df[class_column].isna().sum()\n",
    "print(f\"Missing values after removal: {missing_values_after}\")\n",
    "\n",
    "# Calculate class distribution\n",
    "class_distribution = df[class_column].value_counts(normalize=True)\n",
    "print(\"Original Class Distribution:\")\n",
    "print(class_distribution)\n",
    "\n",
    "# Define the stratified sampling splitter\n",
    "splitter = StratifiedShuffleSplit(n_splits=1, test_size=0.2, random_state=42)\n",
    "\n",
    "# Perform stratified sampling\n",
    "for train_index, test_index in splitter.split(df, df[class_column]):\n",
    "    df_sampled = df.iloc[test_index]\n",
    "\n",
    "# Calculate class distribution in the sampled DataFrame\n",
    "sampled_class_distribution = df_sampled[class_column].value_counts(normalize=True)\n",
    "print(\"\\nSampled Class Distribution:\")\n",
    "print(sampled_class_distribution)\n",
    "\n",
    "# Compare with the original distribution\n",
    "print(\"\\nComparison of Class Distributions:\")\n",
    "comparison = pd.DataFrame({\n",
    "    'Original': class_distribution,\n",
    "    'Sampled': sampled_class_distribution\n",
    "}).fillna(0)\n",
    "print(comparison)\n"
   ]
  },
  {
   "cell_type": "code",
   "execution_count": null,
   "id": "e5efc4ec-135e-4766-a866-b438804b6905",
   "metadata": {},
   "outputs": [],
   "source": []
  }
 ],
 "metadata": {
  "kernelspec": {
   "display_name": "Python 3 (ipykernel)",
   "language": "python",
   "name": "python3"
  },
  "language_info": {
   "codemirror_mode": {
    "name": "ipython",
    "version": 3
   },
   "file_extension": ".py",
   "mimetype": "text/x-python",
   "name": "python",
   "nbconvert_exporter": "python",
   "pygments_lexer": "ipython3",
   "version": "3.12.5"
  }
 },
 "nbformat": 4,
 "nbformat_minor": 5
}
